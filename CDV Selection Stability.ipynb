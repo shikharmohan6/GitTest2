{
 "cells": [
  {
   "cell_type": "code",
   "execution_count": 1,
   "metadata": {},
   "outputs": [],
   "source": [
    "import pandas as pd\n",
    "import random"
   ]
  },
  {
   "cell_type": "code",
   "execution_count": 19,
   "metadata": {},
   "outputs": [
    {
     "name": "stderr",
     "output_type": "stream",
     "text": [
      "<ipython-input-19-5197482f3481>:12: SettingWithCopyWarning: \n",
      "A value is trying to be set on a copy of a slice from a DataFrame.\n",
      "Try using .loc[row_indexer,col_indexer] = value instead\n",
      "\n",
      "See the caveats in the documentation: https://pandas.pydata.org/pandas-docs/stable/user_guide/indexing.html#returning-a-view-versus-a-copy\n",
      "  df_CDVExcel1['Drug']=df['Drug']\n"
     ]
    },
    {
     "data": {
      "text/html": [
       "<div>\n",
       "<style scoped>\n",
       "    .dataframe tbody tr th:only-of-type {\n",
       "        vertical-align: middle;\n",
       "    }\n",
       "\n",
       "    .dataframe tbody tr th {\n",
       "        vertical-align: top;\n",
       "    }\n",
       "\n",
       "    .dataframe thead th {\n",
       "        text-align: right;\n",
       "    }\n",
       "</style>\n",
       "<table border=\"1\" class=\"dataframe\">\n",
       "  <thead>\n",
       "    <tr style=\"text-align: right;\">\n",
       "      <th></th>\n",
       "      <th>index</th>\n",
       "      <th>Lot Type</th>\n",
       "      <th>T_PH_LOT_NAME</th>\n",
       "      <th>TIMEPOINT</th>\n",
       "      <th>BASE_DATE</th>\n",
       "      <th>Drug</th>\n",
       "    </tr>\n",
       "  </thead>\n",
       "  <tbody>\n",
       "    <tr>\n",
       "      <th>0</th>\n",
       "      <td>0</td>\n",
       "      <td>Remdesivir (GS-5734™) Injection, 5 mg/mL</td>\n",
       "      <td>005796</td>\n",
       "      <td>M01</td>\n",
       "      <td>05-FEB-16</td>\n",
       "      <td>REMDESIVIR</td>\n",
       "    </tr>\n",
       "    <tr>\n",
       "      <th>1</th>\n",
       "      <td>1</td>\n",
       "      <td>Velpatasvir Drug Substance</td>\n",
       "      <td>PP-1013G-5003</td>\n",
       "      <td>M18</td>\n",
       "      <td>20-JAN-16</td>\n",
       "      <td>VELPATASVIR</td>\n",
       "    </tr>\n",
       "    <tr>\n",
       "      <th>2</th>\n",
       "      <td>2</td>\n",
       "      <td>Velpatasvir Drug Substance</td>\n",
       "      <td>PP-1013G-5004</td>\n",
       "      <td>M18</td>\n",
       "      <td>20-JAN-16</td>\n",
       "      <td>VELPATASVIR</td>\n",
       "    </tr>\n",
       "    <tr>\n",
       "      <th>3</th>\n",
       "      <td>3</td>\n",
       "      <td>Sofosbuvir Oral Granules, 150 mg, White to Off...</td>\n",
       "      <td>FJ1702B1</td>\n",
       "      <td>T0</td>\n",
       "      <td>27-DEC-17</td>\n",
       "      <td>SOFOSBUVIR</td>\n",
       "    </tr>\n",
       "    <tr>\n",
       "      <th>4</th>\n",
       "      <td>4</td>\n",
       "      <td>Sofosbuvir Oral Granules, 150 mg, White to Off...</td>\n",
       "      <td>FJ1703B1</td>\n",
       "      <td>T0</td>\n",
       "      <td>27-DEC-17</td>\n",
       "      <td>SOFOSBUVIR</td>\n",
       "    </tr>\n",
       "  </tbody>\n",
       "</table>\n",
       "</div>"
      ],
      "text/plain": [
       "   index                                           Lot Type  T_PH_LOT_NAME  \\\n",
       "0      0           Remdesivir (GS-5734™) Injection, 5 mg/mL         005796   \n",
       "1      1                         Velpatasvir Drug Substance  PP-1013G-5003   \n",
       "2      2                         Velpatasvir Drug Substance  PP-1013G-5004   \n",
       "3      3  Sofosbuvir Oral Granules, 150 mg, White to Off...       FJ1702B1   \n",
       "4      4  Sofosbuvir Oral Granules, 150 mg, White to Off...       FJ1703B1   \n",
       "\n",
       "  TIMEPOINT  BASE_DATE         Drug  \n",
       "0       M01  05-FEB-16   REMDESIVIR  \n",
       "1       M18  20-JAN-16  VELPATASVIR  \n",
       "2       M18  20-JAN-16  VELPATASVIR  \n",
       "3        T0  27-DEC-17   SOFOSBUVIR  \n",
       "4        T0  27-DEC-17   SOFOSBUVIR  "
      ]
     },
     "execution_count": 19,
     "metadata": {},
     "output_type": "execute_result"
    }
   ],
   "source": [
    "df_CDVExcel0 = pd.read_excel('Brandon Crouse CDV Request Q2 2021 01Jul2021.xlsx',sheet_name='Stability')\n",
    "df_CDVExcel1 = df_CDVExcel0[['Lot Type', 'T_PH_LOT_NAME', 'TIMEPOINT', 'BASE_DATE']]\n",
    "\n",
    "\n",
    "#creating unique drug column\n",
    "dftemp=df_CDVExcel1['Lot Type'] \n",
    "Drug = [dftemp.str.split(' ')[index][0]\n",
    "             for index in range(0, len(dftemp))]\n",
    "df = pd.DataFrame(Drug, columns =['Drug'])\n",
    "df['Drug']=df['Drug'].str.replace(r'\\W',\"\")\n",
    "df['Drug'] = df['Drug'].str.upper()\n",
    "df_CDVExcel1['Drug']=df['Drug']\n",
    "\n",
    "#Removing duplicate rows\n",
    "df_CDVExcel2 = df_CDVExcel1.drop_duplicates()\n",
    "df_CDVExcel2 = df_CDVExcel2.reset_index(drop=False)\n",
    "df_CDVExcel2.to_excel('output4.xlsx', engine='xlsxwriter')\n",
    "df_CDVExcel2.head()\n",
    "\n",
    "\n",
    "                            "
   ]
  },
  {
   "cell_type": "code",
   "execution_count": 20,
   "metadata": {},
   "outputs": [],
   "source": [
    "#Random selection function: N is the number of entries desired, output: the full randomly selecting N rows as output5.xlsx sheet\n",
    "\n",
    "def random_selection(N):\n",
    "    index = df_CDVExcel2.index\n",
    "    if N > len(index):\n",
    "        N = len(index)\n",
    "    List0 = [random.randint(0,len(index)) for i in range(N)]\n",
    "    temp = df_CDVExcel2.loc[List0,:]\n",
    "    List1 = temp['index']\n",
    "    Result = df_CDVExcel0.loc[List1,:]\n",
    "    Result.to_excel('output5.xlsx', engine='xlsxwriter')\n",
    "\n",
    "random_selection(10)"
   ]
  },
  {
   "cell_type": "code",
   "execution_count": null,
   "metadata": {},
   "outputs": [],
   "source": []
  }
 ],
 "metadata": {
  "kernelspec": {
   "display_name": "Python 3",
   "language": "python",
   "name": "python3"
  },
  "language_info": {
   "codemirror_mode": {
    "name": "ipython",
    "version": 3
   },
   "file_extension": ".py",
   "mimetype": "text/x-python",
   "name": "python",
   "nbconvert_exporter": "python",
   "pygments_lexer": "ipython3",
   "version": "3.8.3"
  }
 },
 "nbformat": 4,
 "nbformat_minor": 4
}
